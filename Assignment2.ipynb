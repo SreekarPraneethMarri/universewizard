{
 "cells": [
  {
   "cell_type": "markdown",
   "source": [
    "Python For Machine Learning\r\n",
    "\r\n",
    "Assignment 2\r\n",
    "\r\n",
    "Sreekar Praneeth Marri\r\n",
    "\r\n",
    "BL.EN.U4AIE20061"
   ],
   "metadata": {}
  },
  {
   "cell_type": "markdown",
   "source": [
    "1. Create the following list"
   ],
   "metadata": {}
  },
  {
   "cell_type": "markdown",
   "source": [
    "List1 = [3, 67, \"cat\", [56, 57, \"dog\"], [ ], 5.14, False]."
   ],
   "metadata": {}
  },
  {
   "cell_type": "markdown",
   "source": [
    "i)\tWrite the code to print the output 5.14"
   ],
   "metadata": {}
  },
  {
   "cell_type": "markdown",
   "source": [
    "ii)\tWrite a code to print output CAT"
   ],
   "metadata": {}
  },
  {
   "cell_type": "code",
   "execution_count": 4,
   "source": [
    "List1 = [3, 67, \"cat\", [56, 57, \"dog\"], [ ], 5.14, False]\r\n",
    "print(List1[5])\r\n",
    "a=List1[2]\r\n",
    "b=a.upper()\r\n",
    "print(b)"
   ],
   "outputs": [
    {
     "output_type": "stream",
     "name": "stdout",
     "text": [
      "5.14\n",
      "CAT\n"
     ]
    }
   ],
   "metadata": {}
  },
  {
   "cell_type": "markdown",
   "source": [
    "2.\tCreate the following list"
   ],
   "metadata": {}
  },
  {
   "cell_type": "markdown",
   "source": [
    "numbers = [17, 123, 87, 34, 66, 8398, 44]"
   ],
   "metadata": {}
  },
  {
   "cell_type": "markdown",
   "source": [
    "Print the output"
   ],
   "metadata": {}
  },
  {
   "cell_type": "markdown",
   "source": [
    "i)\t87  "
   ],
   "metadata": {}
  },
  {
   "cell_type": "markdown",
   "source": [
    "ii)\t123"
   ],
   "metadata": {}
  },
  {
   "cell_type": "markdown",
   "source": [
    "iii)\t8398 (use negative indexing)"
   ],
   "metadata": {}
  },
  {
   "cell_type": "markdown",
   "source": [
    "iv)\t44 ( use len() function)"
   ],
   "metadata": {}
  },
  {
   "cell_type": "code",
   "execution_count": 5,
   "source": [
    "numbers = [17, 123, 87, 34, 66, 8398, 44]\r\n",
    "print(numbers[2])\r\n",
    "print(numbers[1])\r\n",
    "print(numbers[-2])\r\n",
    "print(numbers[len(numbers)-1])"
   ],
   "outputs": [
    {
     "output_type": "stream",
     "name": "stdout",
     "text": [
      "87\n",
      "123\n",
      "8398\n",
      "44\n"
     ]
    }
   ],
   "metadata": {}
  },
  {
   "cell_type": "markdown",
   "source": [
    "3.\tCreate the following list\r\n"
   ],
   "metadata": {}
  },
  {
   "cell_type": "markdown",
   "source": [
    "List2  = ['a', 'b', 'c', 'd', 'e', 'f']"
   ],
   "metadata": {}
  },
  {
   "cell_type": "markdown",
   "source": [
    "Modify the above list to below"
   ],
   "metadata": {}
  },
  {
   "cell_type": "markdown",
   "source": [
    "['a', 'x', 'y', 'd', 'e', 'f']"
   ],
   "metadata": {}
  },
  {
   "cell_type": "code",
   "execution_count": 6,
   "source": [
    "List2  = ['a', 'b', 'c', 'd', 'e', 'f']\r\n",
    "List2[1:3]=['x','y']\r\n",
    "print(List2)"
   ],
   "outputs": [
    {
     "output_type": "stream",
     "name": "stdout",
     "text": [
      "['a', 'x', 'y', 'd', 'e', 'f']\n"
     ]
    }
   ],
   "metadata": {}
  },
  {
   "cell_type": "markdown",
   "source": [
    "4.\tCreate a list that contains the words problem, solving, with, python."
   ],
   "metadata": {}
  },
  {
   "cell_type": "code",
   "execution_count": 7,
   "source": [
    "li=[\"problem\",\"solving\",\"with\",\"python\"]\r\n",
    "print(li)"
   ],
   "outputs": [
    {
     "output_type": "stream",
     "name": "stdout",
     "text": [
      "['problem', 'solving', 'with', 'python']\n"
     ]
    }
   ],
   "metadata": {}
  },
  {
   "cell_type": "markdown",
   "source": [
    "5.\tCreate a list of integers up to 10 using the range() function. Use slicing to extract first all the even numbers and then all the odd numbers. Next, extract the last three odd integers of the original list. Combine the even and odd integer lists to reproduce the original list of all integers up to 10."
   ],
   "metadata": {}
  },
  {
   "cell_type": "code",
   "execution_count": 6,
   "source": [
    "li=[*range(1,11,1)]\r\n",
    "print(li)\r\n",
    "li1=li[1::2]\r\n",
    "print(li1)\r\n",
    "li2=li[::2]\r\n",
    "print(li2)\r\n",
    "print(li2[2:])\r\n",
    "li3=li1+li2\r\n",
    "print(li3)"
   ],
   "outputs": [
    {
     "output_type": "stream",
     "name": "stdout",
     "text": [
      "[1, 2, 3, 4, 5, 6, 7, 8, 9, 10]\n",
      "[2, 4, 6, 8, 10]\n",
      "[1, 3, 5, 7, 9]\n",
      "[5, 7, 9]\n",
      "[2, 4, 6, 8, 10, 1, 3, 5, 7, 9]\n"
     ]
    }
   ],
   "metadata": {}
  },
  {
   "cell_type": "markdown",
   "source": [
    "6. Create an empty list. Convert the empty list to a boolean with the bool() function"
   ],
   "metadata": {}
  },
  {
   "cell_type": "code",
   "execution_count": 1,
   "source": [
    "li=[]\r\n",
    "a=bool(li)\r\n",
    "print(a)"
   ],
   "outputs": [
    {
     "output_type": "stream",
     "name": "stdout",
     "text": [
      "False\n"
     ]
    }
   ],
   "metadata": {}
  },
  {
   "cell_type": "markdown",
   "source": [
    "7. Create a list with the letters C, D, and R. Pull the letters C and D out of your list with indexing."
   ],
   "metadata": {}
  },
  {
   "cell_type": "code",
   "execution_count": 8,
   "source": [
    "li=[\"C\",\"D\",\"R\"]\r\n",
    "print(li[:2])"
   ],
   "outputs": [
    {
     "output_type": "stream",
     "name": "stdout",
     "text": [
      "['C', 'D']\n"
     ]
    }
   ],
   "metadata": {}
  },
  {
   "cell_type": "markdown",
   "source": [
    "8. Create a list with the numbers 1 to 10 (counting by ones). Use slicing to pull out every odd number from the list."
   ],
   "metadata": {}
  },
  {
   "cell_type": "code",
   "execution_count": 7,
   "source": [
    "list=[]\r\n",
    "oddlist=[]\r\n",
    "for i in range(1,11,1):\r\n",
    "    list.append(i)\r\n",
    "    if i%2!=0:\r\n",
    "        oddlist.append(i)\r\n",
    "print(list)\r\n",
    "print(oddlist)"
   ],
   "outputs": [
    {
     "output_type": "stream",
     "name": "stdout",
     "text": [
      "[1, 2, 3, 4, 5, 6, 7, 8, 9, 10]\n",
      "[1, 3, 5, 7, 9]\n"
     ]
    }
   ],
   "metadata": {}
  },
  {
   "cell_type": "markdown",
   "source": [
    "9.\tCreate a dictionary called capitals that contains the states and state capitals. Include Washington, capital Olympia and Oregon, capital Salem."
   ],
   "metadata": {}
  },
  {
   "cell_type": "code",
   "execution_count": 9,
   "source": [
    "capitals={\"Washington\":\"Olympia\",\"Oregon\":\"Salem\"}\r\n",
    "print(capitals)"
   ],
   "outputs": [
    {
     "output_type": "stream",
     "name": "stdout",
     "text": [
      "{'Washington': 'Olympia', 'Oregon': 'Salem'}\n"
     ]
    }
   ],
   "metadata": {}
  },
  {
   "cell_type": "markdown",
   "source": [
    "10. Create a dictionary numbers = {'one':1, 'two':2, 'three':3}. Pull out the number '2' by calling the key 'two'."
   ],
   "metadata": {}
  },
  {
   "cell_type": "code",
   "execution_count": 11,
   "source": [
    "numbers={\"one\":1,\"two\":2,\"three\":3}\r\n",
    "print(numbers[\"two\"])"
   ],
   "outputs": [
    {
     "output_type": "stream",
     "name": "stdout",
     "text": [
      "2\n"
     ]
    }
   ],
   "metadata": {}
  },
  {
   "cell_type": "markdown",
   "source": [
    "11.  Create a dictionary colors = {'red':' #FF0000', 'green':'#008000', 'blue':'#0000FF'}. Pull out all the keys and add them to a list called colors_list with the .keys() method."
   ],
   "metadata": {}
  },
  {
   "cell_type": "code",
   "execution_count": 10,
   "source": [
    "colors = {'red':' #FF0000', 'green':'#008000', 'blue':'#0000FF'}\r\n",
    "colors_list=[]\r\n",
    "for i in colors.keys():\r\n",
    "    colors_list.append(i)\r\n",
    "print(colors_list)"
   ],
   "outputs": [
    {
     "output_type": "stream",
     "name": "stdout",
     "text": [
      "['red', 'green', 'blue']\n"
     ]
    }
   ],
   "metadata": {}
  },
  {
   "cell_type": "markdown",
   "source": [
    "12. Create a dictionary groups = {'solo':1, 'duo':2}. Then remove the  key 'duo' and the value 2 so that only 'solo':1 remains."
   ],
   "metadata": {}
  },
  {
   "cell_type": "code",
   "execution_count": 17,
   "source": [
    "groups = {'solo':1, 'duo':2}\r\n",
    "groups.pop('duo')\r\n",
    "print(groups)"
   ],
   "outputs": [
    {
     "output_type": "stream",
     "name": "stdout",
     "text": [
      "{'solo': 1}\n"
     ]
    }
   ],
   "metadata": {}
  },
  {
   "cell_type": "markdown",
   "source": [
    "13. Create a tuple with the numbers 8, 9, and 10."
   ],
   "metadata": {}
  },
  {
   "cell_type": "code",
   "execution_count": 22,
   "source": [
    "a=(8,9,10)\r\n",
    "print(a)"
   ],
   "outputs": [
    {
     "output_type": "stream",
     "name": "stdout",
     "text": [
      "(8, 9, 10)\n"
     ]
    }
   ],
   "metadata": {}
  },
  {
   "cell_type": "markdown",
   "source": [
    "14. Create a list and a tuple that both contains the strings: one, two and three.Pull the word two out of both the list and the tuple."
   ],
   "metadata": {}
  },
  {
   "cell_type": "code",
   "execution_count": 24,
   "source": [
    "li=[\"one\",\"two\",\"three\"]\r\n",
    "tu=(\"one\",\"two\",\"three\")\r\n",
    "print(li[1])\r\n",
    "print(tu[1])"
   ],
   "outputs": [
    {
     "output_type": "stream",
     "name": "stdout",
     "text": [
      "two\n",
      "two\n"
     ]
    }
   ],
   "metadata": {}
  },
  {
   "cell_type": "markdown",
   "source": [
    "15.\tCreate a tuple that returns False when converted to a boolean. Use  the bool() function to demonstrate your tuple converts to False."
   ],
   "metadata": {}
  },
  {
   "cell_type": "code",
   "execution_count": 2,
   "source": [
    "tu=()\r\n",
    "a=bool(tu)\r\n",
    "print(a)"
   ],
   "outputs": [
    {
     "output_type": "stream",
     "name": "stdout",
     "text": [
      "False\n"
     ]
    }
   ],
   "metadata": {}
  }
 ],
 "metadata": {
  "orig_nbformat": 4,
  "language_info": {
   "name": "python",
   "version": "3.9.6",
   "mimetype": "text/x-python",
   "codemirror_mode": {
    "name": "ipython",
    "version": 3
   },
   "pygments_lexer": "ipython3",
   "nbconvert_exporter": "python",
   "file_extension": ".py"
  },
  "kernelspec": {
   "name": "python3",
   "display_name": "Python 3.9.6 64-bit"
  },
  "interpreter": {
   "hash": "b4cac9b50edfaea4c6b3696472085177ed4036ae65b8e937ab218f4f578fba64"
  }
 },
 "nbformat": 4,
 "nbformat_minor": 2
}